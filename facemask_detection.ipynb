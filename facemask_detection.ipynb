{
  "nbformat": 4,
  "nbformat_minor": 0,
  "metadata": {
    "colab": {
      "provenance": [],
      "mount_file_id": "14O89XII3YIo4k87oJy9UN_gkSAnqSSBT",
      "authorship_tag": "ABX9TyMb4vIkLiFW9wnnUONVJa7E",
      "include_colab_link": true
    },
    "kernelspec": {
      "name": "python3",
      "display_name": "Python 3"
    },
    "language_info": {
      "name": "python"
    }
  },
  "cells": [
    {
      "cell_type": "markdown",
      "metadata": {
        "id": "view-in-github",
        "colab_type": "text"
      },
      "source": [
        "<a href=\"https://colab.research.google.com/github/jkeza1/facemask-classification-pipeline/blob/main/facemask_detection.ipynb\" target=\"_parent\"><img src=\"https://colab.research.google.com/assets/colab-badge.svg\" alt=\"Open In Colab\"/></a>"
      ]
    },
    {
      "cell_type": "code",
      "execution_count": 36,
      "metadata": {
        "id": "V2LnGoLfechF",
        "colab": {
          "base_uri": "https://localhost:8080/"
        },
        "outputId": "f6a0fe59-d19f-4e61-f391-1a7fab0081c2"
      },
      "outputs": [
        {
          "output_type": "stream",
          "name": "stdout",
          "text": [
            "Requirement already satisfied: tensorflow in /usr/local/lib/python3.11/dist-packages (2.18.0)\n",
            "Requirement already satisfied: absl-py>=1.0.0 in /usr/local/lib/python3.11/dist-packages (from tensorflow) (1.4.0)\n",
            "Requirement already satisfied: astunparse>=1.6.0 in /usr/local/lib/python3.11/dist-packages (from tensorflow) (1.6.3)\n",
            "Requirement already satisfied: flatbuffers>=24.3.25 in /usr/local/lib/python3.11/dist-packages (from tensorflow) (25.2.10)\n",
            "Requirement already satisfied: gast!=0.5.0,!=0.5.1,!=0.5.2,>=0.2.1 in /usr/local/lib/python3.11/dist-packages (from tensorflow) (0.6.0)\n",
            "Requirement already satisfied: google-pasta>=0.1.1 in /usr/local/lib/python3.11/dist-packages (from tensorflow) (0.2.0)\n",
            "Requirement already satisfied: libclang>=13.0.0 in /usr/local/lib/python3.11/dist-packages (from tensorflow) (18.1.1)\n",
            "Requirement already satisfied: opt-einsum>=2.3.2 in /usr/local/lib/python3.11/dist-packages (from tensorflow) (3.4.0)\n",
            "Requirement already satisfied: packaging in /usr/local/lib/python3.11/dist-packages (from tensorflow) (25.0)\n",
            "Requirement already satisfied: protobuf!=4.21.0,!=4.21.1,!=4.21.2,!=4.21.3,!=4.21.4,!=4.21.5,<6.0.0dev,>=3.20.3 in /usr/local/lib/python3.11/dist-packages (from tensorflow) (5.29.5)\n",
            "Requirement already satisfied: requests<3,>=2.21.0 in /usr/local/lib/python3.11/dist-packages (from tensorflow) (2.32.3)\n",
            "Requirement already satisfied: setuptools in /usr/local/lib/python3.11/dist-packages (from tensorflow) (75.2.0)\n",
            "Requirement already satisfied: six>=1.12.0 in /usr/local/lib/python3.11/dist-packages (from tensorflow) (1.17.0)\n",
            "Requirement already satisfied: termcolor>=1.1.0 in /usr/local/lib/python3.11/dist-packages (from tensorflow) (3.1.0)\n",
            "Requirement already satisfied: typing-extensions>=3.6.6 in /usr/local/lib/python3.11/dist-packages (from tensorflow) (4.14.1)\n",
            "Requirement already satisfied: wrapt>=1.11.0 in /usr/local/lib/python3.11/dist-packages (from tensorflow) (1.17.2)\n",
            "Requirement already satisfied: grpcio<2.0,>=1.24.3 in /usr/local/lib/python3.11/dist-packages (from tensorflow) (1.74.0)\n",
            "Requirement already satisfied: tensorboard<2.19,>=2.18 in /usr/local/lib/python3.11/dist-packages (from tensorflow) (2.18.0)\n",
            "Requirement already satisfied: keras>=3.5.0 in /usr/local/lib/python3.11/dist-packages (from tensorflow) (3.8.0)\n",
            "Requirement already satisfied: numpy<2.1.0,>=1.26.0 in /usr/local/lib/python3.11/dist-packages (from tensorflow) (2.0.2)\n",
            "Requirement already satisfied: h5py>=3.11.0 in /usr/local/lib/python3.11/dist-packages (from tensorflow) (3.14.0)\n",
            "Requirement already satisfied: ml-dtypes<0.5.0,>=0.4.0 in /usr/local/lib/python3.11/dist-packages (from tensorflow) (0.4.1)\n",
            "Requirement already satisfied: tensorflow-io-gcs-filesystem>=0.23.1 in /usr/local/lib/python3.11/dist-packages (from tensorflow) (0.37.1)\n",
            "Requirement already satisfied: wheel<1.0,>=0.23.0 in /usr/local/lib/python3.11/dist-packages (from astunparse>=1.6.0->tensorflow) (0.45.1)\n",
            "Requirement already satisfied: rich in /usr/local/lib/python3.11/dist-packages (from keras>=3.5.0->tensorflow) (13.9.4)\n",
            "Requirement already satisfied: namex in /usr/local/lib/python3.11/dist-packages (from keras>=3.5.0->tensorflow) (0.1.0)\n",
            "Requirement already satisfied: optree in /usr/local/lib/python3.11/dist-packages (from keras>=3.5.0->tensorflow) (0.17.0)\n",
            "Requirement already satisfied: charset-normalizer<4,>=2 in /usr/local/lib/python3.11/dist-packages (from requests<3,>=2.21.0->tensorflow) (3.4.2)\n",
            "Requirement already satisfied: idna<4,>=2.5 in /usr/local/lib/python3.11/dist-packages (from requests<3,>=2.21.0->tensorflow) (3.10)\n",
            "Requirement already satisfied: urllib3<3,>=1.21.1 in /usr/local/lib/python3.11/dist-packages (from requests<3,>=2.21.0->tensorflow) (2.5.0)\n",
            "Requirement already satisfied: certifi>=2017.4.17 in /usr/local/lib/python3.11/dist-packages (from requests<3,>=2.21.0->tensorflow) (2025.7.14)\n",
            "Requirement already satisfied: markdown>=2.6.8 in /usr/local/lib/python3.11/dist-packages (from tensorboard<2.19,>=2.18->tensorflow) (3.8.2)\n",
            "Requirement already satisfied: tensorboard-data-server<0.8.0,>=0.7.0 in /usr/local/lib/python3.11/dist-packages (from tensorboard<2.19,>=2.18->tensorflow) (0.7.2)\n",
            "Requirement already satisfied: werkzeug>=1.0.1 in /usr/local/lib/python3.11/dist-packages (from tensorboard<2.19,>=2.18->tensorflow) (3.1.3)\n",
            "Requirement already satisfied: MarkupSafe>=2.1.1 in /usr/local/lib/python3.11/dist-packages (from werkzeug>=1.0.1->tensorboard<2.19,>=2.18->tensorflow) (3.0.2)\n",
            "Requirement already satisfied: markdown-it-py>=2.2.0 in /usr/local/lib/python3.11/dist-packages (from rich->keras>=3.5.0->tensorflow) (3.0.0)\n",
            "Requirement already satisfied: pygments<3.0.0,>=2.13.0 in /usr/local/lib/python3.11/dist-packages (from rich->keras>=3.5.0->tensorflow) (2.19.2)\n",
            "Requirement already satisfied: mdurl~=0.1 in /usr/local/lib/python3.11/dist-packages (from markdown-it-py>=2.2.0->rich->keras>=3.5.0->tensorflow) (0.1.2)\n",
            "Requirement already satisfied: keras in /usr/local/lib/python3.11/dist-packages (3.8.0)\n",
            "Requirement already satisfied: absl-py in /usr/local/lib/python3.11/dist-packages (from keras) (1.4.0)\n",
            "Requirement already satisfied: numpy in /usr/local/lib/python3.11/dist-packages (from keras) (2.0.2)\n",
            "Requirement already satisfied: rich in /usr/local/lib/python3.11/dist-packages (from keras) (13.9.4)\n",
            "Requirement already satisfied: namex in /usr/local/lib/python3.11/dist-packages (from keras) (0.1.0)\n",
            "Requirement already satisfied: h5py in /usr/local/lib/python3.11/dist-packages (from keras) (3.14.0)\n",
            "Requirement already satisfied: optree in /usr/local/lib/python3.11/dist-packages (from keras) (0.17.0)\n",
            "Requirement already satisfied: ml-dtypes in /usr/local/lib/python3.11/dist-packages (from keras) (0.4.1)\n",
            "Requirement already satisfied: packaging in /usr/local/lib/python3.11/dist-packages (from keras) (25.0)\n",
            "Requirement already satisfied: typing-extensions>=4.6.0 in /usr/local/lib/python3.11/dist-packages (from optree->keras) (4.14.1)\n",
            "Requirement already satisfied: markdown-it-py>=2.2.0 in /usr/local/lib/python3.11/dist-packages (from rich->keras) (3.0.0)\n",
            "Requirement already satisfied: pygments<3.0.0,>=2.13.0 in /usr/local/lib/python3.11/dist-packages (from rich->keras) (2.19.2)\n",
            "Requirement already satisfied: mdurl~=0.1 in /usr/local/lib/python3.11/dist-packages (from markdown-it-py>=2.2.0->rich->keras) (0.1.2)\n",
            "Requirement already satisfied: matplotlib in /usr/local/lib/python3.11/dist-packages (3.10.0)\n",
            "Requirement already satisfied: contourpy>=1.0.1 in /usr/local/lib/python3.11/dist-packages (from matplotlib) (1.3.2)\n",
            "Requirement already satisfied: cycler>=0.10 in /usr/local/lib/python3.11/dist-packages (from matplotlib) (0.12.1)\n",
            "Requirement already satisfied: fonttools>=4.22.0 in /usr/local/lib/python3.11/dist-packages (from matplotlib) (4.59.0)\n",
            "Requirement already satisfied: kiwisolver>=1.3.1 in /usr/local/lib/python3.11/dist-packages (from matplotlib) (1.4.8)\n",
            "Requirement already satisfied: numpy>=1.23 in /usr/local/lib/python3.11/dist-packages (from matplotlib) (2.0.2)\n",
            "Requirement already satisfied: packaging>=20.0 in /usr/local/lib/python3.11/dist-packages (from matplotlib) (25.0)\n",
            "Requirement already satisfied: pillow>=8 in /usr/local/lib/python3.11/dist-packages (from matplotlib) (11.3.0)\n",
            "Requirement already satisfied: pyparsing>=2.3.1 in /usr/local/lib/python3.11/dist-packages (from matplotlib) (3.2.3)\n",
            "Requirement already satisfied: python-dateutil>=2.7 in /usr/local/lib/python3.11/dist-packages (from matplotlib) (2.9.0.post0)\n",
            "Requirement already satisfied: six>=1.5 in /usr/local/lib/python3.11/dist-packages (from python-dateutil>=2.7->matplotlib) (1.17.0)\n",
            "Requirement already satisfied: seaborn in /usr/local/lib/python3.11/dist-packages (0.13.2)\n",
            "Requirement already satisfied: numpy!=1.24.0,>=1.20 in /usr/local/lib/python3.11/dist-packages (from seaborn) (2.0.2)\n",
            "Requirement already satisfied: pandas>=1.2 in /usr/local/lib/python3.11/dist-packages (from seaborn) (2.2.2)\n",
            "Requirement already satisfied: matplotlib!=3.6.1,>=3.4 in /usr/local/lib/python3.11/dist-packages (from seaborn) (3.10.0)\n",
            "Requirement already satisfied: contourpy>=1.0.1 in /usr/local/lib/python3.11/dist-packages (from matplotlib!=3.6.1,>=3.4->seaborn) (1.3.2)\n",
            "Requirement already satisfied: cycler>=0.10 in /usr/local/lib/python3.11/dist-packages (from matplotlib!=3.6.1,>=3.4->seaborn) (0.12.1)\n",
            "Requirement already satisfied: fonttools>=4.22.0 in /usr/local/lib/python3.11/dist-packages (from matplotlib!=3.6.1,>=3.4->seaborn) (4.59.0)\n",
            "Requirement already satisfied: kiwisolver>=1.3.1 in /usr/local/lib/python3.11/dist-packages (from matplotlib!=3.6.1,>=3.4->seaborn) (1.4.8)\n",
            "Requirement already satisfied: packaging>=20.0 in /usr/local/lib/python3.11/dist-packages (from matplotlib!=3.6.1,>=3.4->seaborn) (25.0)\n",
            "Requirement already satisfied: pillow>=8 in /usr/local/lib/python3.11/dist-packages (from matplotlib!=3.6.1,>=3.4->seaborn) (11.3.0)\n",
            "Requirement already satisfied: pyparsing>=2.3.1 in /usr/local/lib/python3.11/dist-packages (from matplotlib!=3.6.1,>=3.4->seaborn) (3.2.3)\n",
            "Requirement already satisfied: python-dateutil>=2.7 in /usr/local/lib/python3.11/dist-packages (from matplotlib!=3.6.1,>=3.4->seaborn) (2.9.0.post0)\n",
            "Requirement already satisfied: pytz>=2020.1 in /usr/local/lib/python3.11/dist-packages (from pandas>=1.2->seaborn) (2025.2)\n",
            "Requirement already satisfied: tzdata>=2022.7 in /usr/local/lib/python3.11/dist-packages (from pandas>=1.2->seaborn) (2025.2)\n",
            "Requirement already satisfied: six>=1.5 in /usr/local/lib/python3.11/dist-packages (from python-dateutil>=2.7->matplotlib!=3.6.1,>=3.4->seaborn) (1.17.0)\n"
          ]
        }
      ],
      "source": [
        " #INSTALL DEPENDENCIES\n",
        "\n",
        "!pip install tensorflow\n",
        "!pip install keras\n",
        "!pip install matplotlib\n",
        "!pip install seaborn\n"
      ]
    },
    {
      "cell_type": "code",
      "source": [
        "\n",
        "import os\n",
        "import numpy as np\n",
        "import pandas as pd\n",
        "import matplotlib.pyplot as plt\n",
        "import seaborn as sns\n",
        "from sklearn.metrics import classification_report, confusion_matrix\n",
        "import tensorflow as tf\n",
        "from tensorflow.keras.preprocessing.image import ImageDataGenerator\n",
        "from tensorflow.keras.applications import MobileNetV2\n",
        "from tensorflow.keras.layers import AveragePooling2D, Dropout, Flatten, Dense, Input\n",
        "from tensorflow.keras.models import Model\n",
        "from tensorflow.keras.optimizers import Adam\n",
        "from tensorflow.keras.applications.mobilenet_v2 import preprocess_input\n",
        "from tensorflow.keras.preprocessing.image import img_to_array, load_img\n",
        "from tensorflow.keras.utils import to_categorical\n",
        "from sklearn.preprocessing import LabelEncoder\n",
        "from sklearn.model_selection import train_test_split\n",
        "import cv2\n",
        "import imutils\n",
        "from imutils import paths\n",
        "import pickle\n",
        "import time\n",
        "import json"
      ],
      "metadata": {
        "id": "IvLkUUrshX-t"
      },
      "execution_count": null,
      "outputs": []
    },
    {
      "cell_type": "code",
      "source": [
        "#  DATA ACQUISITION\n",
        "from google.colab import drive\n",
        "drive.mount('/content/drive',force_remount=True)\n",
        "\n",
        "original_dataset_dir = \"/content/drive/MyDrive/datasets/FaceMaskDataset\"\n",
        "base_dir = \"/content/drive/MyDrive/datasets/FaceMaskDatasetSplit\"\n",
        "\n",
        "\n",
        "\n",
        "\n"
      ],
      "metadata": {
        "id": "p_DJmdqDgMJH"
      },
      "execution_count": null,
      "outputs": []
    },
    {
      "cell_type": "code",
      "source": [
        "folder_path = \"/content/drive/MyDrive/datasets/FaceMaskDataset\"\n",
        "\n",
        "import os\n",
        "\n",
        "for root, dirs, files in os.walk(folder_path):\n",
        "    print(f\"📁 {root}\")\n",
        "    for f in files:\n",
        "        print(f\"   └── {f}\")\n"
      ],
      "metadata": {
        "id": "5Hr9f_OLkXOm"
      },
      "execution_count": null,
      "outputs": []
    },
    {
      "cell_type": "code",
      "source": [
        "!ls \"/content/drive/MyDrive/datasets/FaceMaskDataset\"\n"
      ],
      "metadata": {
        "id": "Zr82s_5F_xcf"
      },
      "execution_count": null,
      "outputs": []
    },
    {
      "cell_type": "code",
      "source": [
        "import shutil\n",
        "\n",
        "# Define classes\n",
        "classes = ['mask_weared_incorrect', 'with_mask', 'without_mask']\n",
        "\n",
        "# Create directories for split dataset\n",
        "for split in ['train', 'val']:\n",
        "    for class_name in classes:\n",
        "        split_dir = os.path.join(base_dir, split, class_name)\n",
        "        os.makedirs(split_dir, exist_ok=True)\n",
        "\n",
        "# Collect image file paths and labels\n",
        "file_paths = []\n",
        "labels = []\n",
        "\n",
        "for class_name in classes:\n",
        "    class_dir = os.path.join(original_dataset_dir, class_name)\n",
        "    for fname in os.listdir(class_dir):\n",
        "        if fname.lower().endswith(('.jpg', '.jpeg', '.png')):\n",
        "            file_paths.append(os.path.join(class_dir, fname))\n",
        "            labels.append(class_name)\n",
        "\n",
        "# Perform stratified split\n",
        "train_paths, val_paths, train_labels, val_labels = train_test_split(\n",
        "    file_paths, labels, test_size=0.2, stratify=labels, random_state=42\n",
        ")\n",
        "\n",
        "# Helper function to copy files\n",
        "def copy_files(file_paths, labels, split):\n",
        "    for path, label in zip(file_paths, labels):\n",
        "        dst_dir = os.path.join(base_dir, split, label)\n",
        "        shutil.copy(path, dst_dir)\n",
        "\n",
        "# Copy the files\n",
        "copy_files(train_paths, train_labels, 'train')\n",
        "copy_files(val_paths, val_labels, 'val')\n",
        "\n",
        "print(\" Stratified splitting and copying completed.\")\n"
      ],
      "metadata": {
        "id": "R7iYZA1mtTI0",
        "colab": {
          "base_uri": "https://localhost:8080/"
        },
        "outputId": "bd7f18be-bea3-482e-e21e-80d59ce4c1d7"
      },
      "execution_count": 7,
      "outputs": [
        {
          "output_type": "stream",
          "name": "stdout",
          "text": [
            "✅ Stratified splitting and copying completed.\n"
          ]
        }
      ]
    },
    {
      "cell_type": "code",
      "source": [
        "!ls -R \"/content/drive/MyDrive/datasets/FaceMaskDataset\"\n"
      ],
      "metadata": {
        "id": "nNbQ9zftZb8t"
      },
      "execution_count": null,
      "outputs": []
    },
    {
      "cell_type": "code",
      "source": [
        "class_names = list(train_generator.class_indices.keys())\n"
      ],
      "metadata": {
        "id": "pps9Oz8DgYBX"
      },
      "execution_count": 45,
      "outputs": []
    },
    {
      "cell_type": "code",
      "source": [
        "from tensorflow.keras.preprocessing.image import ImageDataGenerator\n",
        "\n",
        "# Constants\n",
        "IMG_SIZE = (128, 128)\n",
        "BATCH_SIZE = 32\n",
        "\n",
        "# Create data generators\n",
        "datagen = ImageDataGenerator(\n",
        "    rescale=1./255,\n",
        "    validation_split=0.2,\n",
        "    rotation_range=15,\n",
        "    zoom_range=0.2,\n",
        "    horizontal_flip=True,\n",
        "    fill_mode='nearest'\n",
        ")\n",
        "\n",
        "dataset_path = \"/content/drive/MyDrive/datasets/FaceMaskDataset\"\n",
        "\n",
        "train_generator = datagen.flow_from_directory(\n",
        "    dataset_path,\n",
        "    target_size=IMG_SIZE,\n",
        "    batch_size=BATCH_SIZE,\n",
        "    class_mode='categorical',\n",
        "    subset='training',\n",
        "    shuffle=True\n",
        ")\n",
        "\n",
        "val_generator = datagen.flow_from_directory(\n",
        "    dataset_path,\n",
        "    target_size=IMG_SIZE,\n",
        "    batch_size=BATCH_SIZE,\n",
        "    class_mode='categorical',\n",
        "    subset='validation',\n",
        "    shuffle=True\n",
        ")\n"
      ],
      "metadata": {
        "id": "Odhf9JXogz8M",
        "colab": {
          "base_uri": "https://localhost:8080/"
        },
        "outputId": "08f1d445-bddd-4dfa-afa8-d62302614f16"
      },
      "execution_count": 46,
      "outputs": [
        {
          "output_type": "stream",
          "name": "stdout",
          "text": [
            "Found 7196 images belonging to 3 classes.\n",
            "Found 1796 images belonging to 3 classes.\n"
          ]
        }
      ]
    },
    {
      "cell_type": "code",
      "source": [
        "#  MODEL CREATION\n",
        "from tensorflow.keras.models import Sequential\n",
        "from tensorflow.keras.layers import Conv2D, MaxPooling2D, Flatten, Dense, Dropout\n",
        "\n",
        "model = Sequential([\n",
        "    Conv2D(32, (3,3), activation='relu', input_shape=(128, 128, 3)),\n",
        "    MaxPooling2D(2,2),\n",
        "    Conv2D(64, (3,3), activation='relu'),\n",
        "    MaxPooling2D(2,2),\n",
        "    Flatten(),\n",
        "    Dense(128, activation='relu'),\n",
        "    Dropout(0.5),\n",
        "    Dense(3, activation='softmax')\n",
        "])\n",
        "\n",
        "model.compile(optimizer='adam', loss='categorical_crossentropy', metrics=['accuracy'])\n",
        "model.summary()\n"
      ],
      "metadata": {
        "id": "l3Qp0Dfbg7y0"
      },
      "execution_count": null,
      "outputs": []
    },
    {
      "cell_type": "code",
      "source": [
        "history = model.fit(\n",
        "    train_generator,\n",
        "    validation_data=val_generator,\n",
        "    epochs=10\n",
        ")\n"
      ],
      "metadata": {
        "id": "tL8R0OvVg-zZ"
      },
      "execution_count": null,
      "outputs": []
    },
    {
      "cell_type": "code",
      "source": [
        "# MODEL EVALUATION\n",
        "import matplotlib.pyplot as plt\n",
        "import seaborn as sns\n",
        "import numpy as np\n",
        "from sklearn.metrics import classification_report, confusion_matrix\n",
        "\n",
        "# Plot accuracy and loss curves\n",
        "plt.figure(figsize=(12,5))\n",
        "\n",
        "# Accuracy\n",
        "plt.subplot(1,2,1)\n",
        "plt.plot(history.history['accuracy'], label='Train Acc')\n",
        "plt.plot(history.history['val_accuracy'], label='Val Acc')\n",
        "plt.legend()\n",
        "plt.title(\"Accuracy over Epochs\")\n",
        "\n",
        "# Loss\n",
        "plt.subplot(1,2,2)\n",
        "plt.plot(history.history['loss'], label='Train Loss')\n",
        "plt.plot(history.history['val_loss'], label='Val Loss')\n",
        "plt.legend()\n",
        "plt.title(\"Loss over Epochs\")\n",
        "plt.show()\n"
      ],
      "metadata": {
        "id": "BVw0-5OfhAvv"
      },
      "execution_count": null,
      "outputs": []
    },
    {
      "cell_type": "code",
      "source": [
        "# Reset the generator before prediction (important)\n",
        "val_generator.reset()\n",
        "\n",
        "# Predict on validation data\n",
        "Y_pred = model.predict(val_generator)\n",
        "\n",
        "# Get predicted class indices\n",
        "y_pred = np.argmax(Y_pred, axis=1)\n",
        "\n",
        "# Get the class labels\n",
        "labels = list(val_generator.class_indices.keys())\n",
        "\n",
        "# Compute confusion matrix\n",
        "conf_matrix = confusion_matrix(val_generator.classes, y_pred)\n",
        "\n",
        "# Plot confusion matrix\n",
        "import seaborn as sns\n",
        "import matplotlib.pyplot as plt\n",
        "\n",
        "sns.heatmap(conf_matrix, annot=True, fmt=\"d\", cmap=\"Blues\", xticklabels=labels, yticklabels=labels)\n",
        "plt.title(\"Confusion Matrix\")\n",
        "plt.xlabel(\"Predicted\")\n",
        "plt.ylabel(\"Actual\")\n",
        "plt.show()\n",
        "\n",
        "# Classification report\n",
        "from sklearn.metrics import classification_report\n",
        "print(\"Classification Report:\")\n",
        "print(classification_report(val_generator.classes, y_pred, target_names=labels))\n"
      ],
      "metadata": {
        "id": "bqJbCIeQhF7u"
      },
      "execution_count": null,
      "outputs": []
    },
    {
      "cell_type": "code",
      "source": [
        "import numpy as np\n",
        "print(\"Unique classes in val_generator:\", np.unique(val_generator.classes))\n",
        "print(\"Class indices:\", val_generator.class_indices)\n"
      ],
      "metadata": {
        "id": "Cv_SEM-SsD7X"
      },
      "execution_count": null,
      "outputs": []
    },
    {
      "cell_type": "code",
      "source": [
        "#  SAVE MODEL\n",
        "model.save(\"/content/mask_detection_model.h5\")\n",
        "print(\"✅ Model saved.\")\n"
      ],
      "metadata": {
        "id": "8bhVw65-hIAZ"
      },
      "execution_count": null,
      "outputs": []
    },
    {
      "cell_type": "code",
      "source": [
        "from tensorflow.keras.models import load_model\n",
        "from tensorflow.keras.preprocessing import image\n",
        "\n",
        "model = load_model(\"/content/mask_detection_model.h5\")\n",
        "\n",
        "# Load and preprocess a new image for prediction\n",
        "img_path = \"/content/drive/MyDrive/datasets/FaceMaskDataset/with_mask/0001.png\"\n",
        "img = image.load_img(img_path, target_size=(128, 128))\n",
        "img_array = image.img_to_array(img)\n",
        "img_array = np.expand_dims(img_array, axis=0) / 255.0  # normalize\n",
        "\n",
        "# Predict\n",
        "prediction = model.predict(img_array)\n",
        "predicted_class = np.argmax(prediction)\n",
        "                            # Labels from training\n",
        "class_labels = list(train_generator.class_indices.keys())\n",
        "print(\"Predicted class:\", class_labels[predicted_class])\n"
      ],
      "metadata": {
        "id": "m8kg3OHk4gIt"
      },
      "execution_count": null,
      "outputs": []
    },
    {
      "cell_type": "code",
      "source": [
        "!ls -R \"/content/drive/MyDrive/datasets/FaceMaskDatasetNew\"\n"
      ],
      "metadata": {
        "id": "zDaMHq1mlsvu"
      },
      "execution_count": null,
      "outputs": []
    },
    {
      "cell_type": "code",
      "source": [
        "import os\n",
        "\n",
        "new_data_path = \"/content/drive/MyDrive/datasets/FaceMaskDatasetNew\"\n",
        "\n",
        "for cls in os.listdir(new_data_path):\n",
        "    cls_path = os.path.join(new_data_path, cls)\n",
        "    print(f\"{cls} → {len(os.listdir(cls_path))} images\")\n"
      ],
      "metadata": {
        "id": "nQhVycM4n22E"
      },
      "execution_count": null,
      "outputs": []
    },
    {
      "cell_type": "code",
      "source": [
        "from tensorflow.keras.callbacks import EarlyStopping\n",
        "import tensorflow as tf\n",
        "tf.config.run_functions_eagerly(True)\n",
        "print(\"Eager execution enabled:\", tf.executing_eagerly())\n",
        "\n",
        "\n",
        "# Load saved model for retraining\n",
        "model = load_model(\"/content/mask_detection_model.h5\", compile=False)\n",
        "model.compile(optimizer='adam', loss='categorical_crossentropy', metrics=['accuracy'])\n",
        "\n",
        "# Upload and preprocess new data (simulate retraining data upload)\n",
        "new_data_path = \"/content/drive/MyDrive/datasets/FaceMaskDatasetNew\"\n",
        "\n",
        "retrain_datagen = ImageDataGenerator(rescale=1./255)\n",
        "\n",
        "retrain_generator = retrain_datagen.flow_from_directory(\n",
        "    new_data_path,\n",
        "    target_size=(128, 128),\n",
        "    batch_size=32,\n",
        "    class_mode='categorical'\n",
        ")\n",
        "\n",
        "# Retrain model\n",
        "early_stop = EarlyStopping(monitor='loss', patience=2, restore_best_weights=True)\n",
        "model.fit(retrain_generator, epochs=5, callbacks=[early_stop])\n",
        "\n",
        "# Optionally save retrained model\n",
        "model.save(\"/content/retrained_mask_model.h5\")\n"
      ],
      "metadata": {
        "id": "EYnpfOBB4lQ2"
      },
      "execution_count": null,
      "outputs": []
    },
    {
      "cell_type": "code",
      "source": [
        "from sklearn.metrics import precision_score, recall_score, f1_score\n",
        "\n",
        "print(\"Precision:\", precision_score(val_generator.classes, y_pred, average='weighted'))\n",
        "print(\"Recall:\", recall_score(val_generator.classes, y_pred, average='weighted'))\n",
        "print(\"F1 Score:\", f1_score(val_generator.classes, y_pred, average='weighted'))\n"
      ],
      "metadata": {
        "id": "9j8G17mM4nNi"
      },
      "execution_count": null,
      "outputs": []
    },
    {
      "cell_type": "code",
      "source": [
        "loss, accuracy = model.evaluate(retrain_generator)\n",
        "print(f\"Retrained model accuracy: {accuracy:.2f}\")\n"
      ],
      "metadata": {
        "id": "gA9z5HhBoVAM"
      },
      "execution_count": null,
      "outputs": []
    },
    {
      "cell_type": "code",
      "source": [
        "import numpy as np\n",
        "import matplotlib.pyplot as plt\n",
        "\n",
        "# Get a batch\n",
        "images, labels = next(retrain_generator)\n",
        "\n",
        "# Predict\n",
        "preds = model.predict(images)\n",
        "\n",
        "# Show predictions\n",
        "for i in range(5):\n",
        "    plt.imshow(images[i])\n",
        "    plt.title(f\"True: {np.argmax(labels[i])}, Predicted: {np.argmax(preds[i])}\")\n",
        "    plt.axis('off')\n",
        "    plt.show()\n"
      ],
      "metadata": {
        "id": "erVejcyfocMR"
      },
      "execution_count": null,
      "outputs": []
    },
    {
      "cell_type": "code",
      "source": [
        "# Retraining function with new data\n",
        "def retrain_with_new_data(new_data_dir, model_path, epochs=5):\n",
        "    # Load existing model\n",
        "    model = tf.keras.models.load_model(model_path)\n",
        "\n",
        "    # Prepare new data generator\n",
        "    new_datagen = ImageDataGenerator(rescale=1./255)\n",
        "    new_generator = new_datagen.flow_from_directory(\n",
        "        new_data_dir,\n",
        "        target_size=IMG_SIZE,\n",
        "        batch_size=BATCH_SIZE,\n",
        "        class_mode='categorical'\n",
        "    )\n",
        "\n",
        "    # Unfreeze some layers for fine-tuning\n",
        "    for layer in model.layers[-4:]:\n",
        "        layer.trainable = True\n",
        "\n",
        "    # Recompile with lower learning rate\n",
        "    model.compile(optimizer=tf.keras.optimizers.Adam(1e-5),\n",
        "                loss='categorical_crossentropy',\n",
        "                metrics=['accuracy'])\n",
        "\n",
        "    # Retrain\n",
        "    history = model.fit(\n",
        "        new_generator,\n",
        "        epochs=epochs,\n",
        "        validation_data=val_generator\n",
        "    )\n",
        "\n",
        "    # Save retrained model\n",
        "    model.save(f\"{model_path}_retrained.h5\")\n",
        "    return history"
      ],
      "metadata": {
        "id": "P5GulY55pAO4"
      },
      "execution_count": null,
      "outputs": []
    },
    {
      "cell_type": "code",
      "source": [
        "from sklearn.metrics import precision_score, recall_score, f1_score\n",
        "\n",
        "# Extended evaluation\n",
        "def extended_evaluation(model, generator):\n",
        "    generator.reset()\n",
        "    y_pred = model.predict(generator)\n",
        "    y_pred = np.argmax(y_pred, axis=1)\n",
        "    y_true = generator.classes\n",
        "\n",
        "    print(\"Extended Evaluation Metrics:\")\n",
        "    print(f\"Precision: {precision_score(y_true, y_pred, average='weighted')}\")\n",
        "    print(f\"Recall: {recall_score(y_true, y_pred, average='weighted')}\")\n",
        "    print(f\"F1 Score: {f1_score(y_true, y_pred, average='weighted')}\")\n",
        "\n",
        "    # ROC AUC for multi-class\n",
        "    if len(generator.class_indices) == 2:\n",
        "        from sklearn.metrics import roc_auc_score\n",
        "        print(f\"ROC AUC: {roc_auc_score(y_true, y_pred)}\")"
      ],
      "metadata": {
        "id": "wvvgcMoRpF3F"
      },
      "execution_count": null,
      "outputs": []
    },
    {
      "cell_type": "code",
      "source": [
        "# Model and data version tracking\n",
        "import datetime\n",
        "\n",
        "def save_metadata(model, dataset_path):\n",
        "    metadata = {\n",
        "        'timestamp': datetime.datetime.now().isoformat(),\n",
        "        'dataset_size': sum([len(files) for r, d, files in os.walk(dataset_path)]),\n",
        "        'dataset_hash': hash(str(sorted(paths.list_images(dataset_path)))),\n",
        "        'training_params': {\n",
        "            'batch_size': BATCH_SIZE,\n",
        "            'image_size': IMG_SIZE,\n",
        "            'classes': list(train_generator.class_indices.keys())\n",
        "        },\n",
        "        'performance': {\n",
        "            'val_accuracy': max(history.history['val_accuracy']),\n",
        "            'val_loss': min(history.history['val_loss'])\n",
        "        }\n",
        "    }\n",
        "\n",
        "    with open('model_metadata.json', 'w') as f:\n",
        "        json.dump(metadata, f)"
      ],
      "metadata": {
        "id": "YlO0p79rpTG-"
      },
      "execution_count": null,
      "outputs": []
    },
    {
      "cell_type": "code",
      "source": [
        "# Deployment-ready prediction function\n",
        "def predict_image(image_path, model_path='mask_detection_model.h5'):\n",
        "    # Load model and labels\n",
        "    model = tf.keras.models.load_model(model_path)\n",
        "    labels = {v:k for k,v in train_generator.class_indices.items()}\n",
        "\n",
        "    # Process image\n",
        "    img = load_img(image_path, target_size=IMG_SIZE)\n",
        "    img_array = img_to_array(img)\n",
        "    img_array = np.expand_dims(img_array, axis=0) / 255.0\n",
        "\n",
        "    # Predict\n",
        "    pred = model.predict(img_array)\n",
        "    predicted_class = labels[np.argmax(pred)]\n",
        "    confidence = np.max(pred) * 100\n",
        "\n",
        "    return {\n",
        "        'class': predicted_class,\n",
        "        'confidence': float(confidence),\n",
        "        'timestamp': datetime.datetime.now().isoformat()\n",
        "    }"
      ],
      "metadata": {
        "id": "sRsgL6LCpVVa"
      },
      "execution_count": null,
      "outputs": []
    },
    {
      "cell_type": "code",
      "source": [
        "# Data validation checks\n",
        "def validate_dataset(dataset_path):\n",
        "    issues = []\n",
        "    class_counts = {}\n",
        "\n",
        "    for class_name in os.listdir(dataset_path):\n",
        "        class_dir = os.path.join(dataset_path, class_name)\n",
        "        if not os.path.isdir(class_dir):\n",
        "            continue\n",
        "\n",
        "        num_images = len(os.listdir(class_dir))\n",
        "        class_counts[class_name] = num_images\n",
        "\n",
        "        if num_images < 50:\n",
        "            issues.append(f\"Class {class_name} has only {num_images} samples (minimum 50 recommended)\")\n",
        "\n",
        "    # Check class imbalance\n",
        "    if len(class_counts) > 1:\n",
        "        max_count = max(class_counts.values())\n",
        "        for class_name, count in class_counts.items():\n",
        "            if count < max_count * 0.3:\n",
        "                issues.append(f\"Class {class_name} has significantly fewer samples ({count}) than others\")\n",
        "\n",
        "    return issues if issues else \"Dataset validation passed\""
      ],
      "metadata": {
        "id": "PCBC6TZBpXe2"
      },
      "execution_count": null,
      "outputs": []
    },
    {
      "cell_type": "code",
      "source": [
        "# Model versioning\n",
        "MODEL_VERSION = \"1.0.0\"\n",
        "model.save(f\"mask_detector_v{MODEL_VERSION}.h5\")"
      ],
      "metadata": {
        "id": "PySOT2YSpa2R"
      },
      "execution_count": null,
      "outputs": []
    },
    {
      "cell_type": "code",
      "source": [
        "# Basic data drift detection\n",
        "def detect_data_drift(new_data_dir, original_stats):\n",
        "    new_stats = {}\n",
        "    for class_name in os.listdir(new_data_dir):\n",
        "        class_dir = os.path.join(new_data_dir, class_name)\n",
        "        new_stats[class_name] = len(os.listdir(class_dir))\n",
        "\n",
        "    drift_detected = False\n",
        "    for class_name in original_stats:\n",
        "        if class_name not in new_stats:\n",
        "            print(f\"Warning: New class {class_name} detected!\")\n",
        "            drift_detected = True\n",
        "        elif abs(original_stats[class_name] - new_stats[class_name]) > 0.3 * original_stats[class_name]:\n",
        "            print(f\"Warning: Significant change in class {class_name} distribution\")\n",
        "            drift_detected = True\n",
        "\n",
        "    return drift_detected"
      ],
      "metadata": {
        "id": "xmbPoXIppceF"
      },
      "execution_count": null,
      "outputs": []
    },
    {
      "cell_type": "code",
      "source": [
        "# Performance baseline\n",
        "performance_baseline = {\n",
        "    'min_accuracy': 0.85,\n",
        "    'max_loss': 0.5,\n",
        "    'inference_time': 0.5\n",
        "}\n",
        "\n",
        "def check_performance(model, generator):\n",
        "    start_time = time.time()\n",
        "    loss, accuracy = model.evaluate(generator)\n",
        "    inference_time = time.time() - start_time\n",
        "\n",
        "    issues = []\n",
        "    if accuracy < performance_baseline['min_accuracy']:\n",
        "        issues.append(f\"Low accuracy: {accuracy:.2f}\")\n",
        "    if loss > performance_baseline['max_loss']:\n",
        "        issues.append(f\"High loss: {loss:.2f}\")\n",
        "    if inference_time > performance_baseline['inference_time']:\n",
        "        issues.append(f\"Slow inference: {inference_time:.2f}s\")\n",
        "\n",
        "    return issues if issues else \"Performance meets baseline\""
      ],
      "metadata": {
        "id": "XlXupcxwpeWb"
      },
      "execution_count": null,
      "outputs": []
    },
    {
      "cell_type": "code",
      "source": [
        "model = load_model(\"path/to/your_model.h5\")\n"
      ],
      "metadata": {
        "id": "94kUJH48FuhU"
      },
      "execution_count": null,
      "outputs": []
    },
    {
      "cell_type": "code",
      "source": [
        "from flask import Flask, request, jsonify\n",
        "import io\n",
        "from PIL import Image\n",
        "import numpy as np\n",
        "import os\n",
        "from tensorflow.keras.models import load_model  # ✅ Import this\n",
        "\n",
        "app = Flask(__name__)\n",
        "\n",
        "# Load model once\n",
        "model = load_model(\"/content/mask_detection_model.h5\")\n",
        "model.compile(optimizer='adam', loss='categorical_crossentropy', metrics=['accuracy'])\n",
        "\n",
        "# Dummy class mapping (replace with actual from training generator)\n",
        "class_names = ['with_mask', 'without_mask', 'mask_weared_incorrect']\n",
        "\n",
        "@app.route('/predict', methods=['POST'])\n",
        "def predict():\n",
        "    if 'file' not in request.files:\n",
        "        return jsonify({'error': 'No file provided'}), 400\n",
        "\n",
        "    file = request.files['file'].read()\n",
        "    img = Image.open(io.BytesIO(file)).resize((128, 128))\n",
        "    img_array = np.array(img) / 255.0\n",
        "    img_array = np.expand_dims(img_array, axis=0)\n",
        "\n",
        "    pred = model.predict(img_array)\n",
        "    return jsonify({\n",
        "        'prediction': class_names[np.argmax(pred)],\n",
        "        'confidence': float(np.max(pred))\n",
        "    })\n",
        "\n",
        "@app.route('/retrain', methods=['POST'])\n",
        "def retrain():\n",
        "    if not os.path.exists('new_data/'):\n",
        "        return jsonify({'error': 'Upload data first'}), 400\n",
        "\n",
        "    history = retrain_with_new_data('new_data/', '/content/mask_detection_model.h5')\n",
        "    return jsonify({\n",
        "        'status': 'Retraining complete',\n",
        "        'new_accuracy': history.history['accuracy'][-1]\n",
        "    })\n",
        "\n",
        "if __name__ == '__main__':\n",
        "    app.run(host='0.0.0.0', port=5000)"
      ],
      "metadata": {
        "id": "eu8793bjyYxT"
      },
      "execution_count": null,
      "outputs": []
    },
    {
      "cell_type": "code",
      "source": [
        "# Streamlit UI\n",
        "%%writefile app.py\n",
        "import streamlit as st\n",
        "import numpy as np\n",
        "from PIL import Image\n",
        "import requests\n",
        "\n",
        "st.title(\"Face Mask Detection System\")\n",
        "\n",
        "tab1, tab2, tab3 = st.tabs([\"Predict\", \"Visualize\", \"Retrain\"])\n",
        "\n",
        "with tab1:\n",
        "    uploaded = st.file_uploader(\"Upload face image\")\n",
        "    if uploaded:\n",
        "        img = Image.open(uploaded)\n",
        "        st.image(img, width=300)\n",
        "        if st.button(\"Predict\"):\n",
        "            response = requests.post(\n",
        "                \"http://localhost:5000/predict\",\n",
        "                files={\"file\": uploaded.getvalue()}\n",
        "            )\n",
        "            st.json(response.json())\n",
        "\n",
        "with tab2:\n",
        "    st.plotly_chart(confusion_matrix_fig)\n",
        "    st.plotly_chart(class_distribution_fig)\n",
        "\n",
        "with tab3:\n",
        "    new_data = st.file_uploader(\"Upload new dataset (ZIP)\", type=\"zip\")\n",
        "    if new_data:\n",
        "        with open(\"new_data.zip\", \"wb\") as f:\n",
        "            f.write(new_data.getbuffer())\n",
        "        st.success(\"Data uploaded\")\n",
        "\n",
        "    if st.button(\"Retrain Model\"):\n",
        "        response = requests.post(\"http://localhost:5000/retrain\")\n",
        "        st.json(response.json())"
      ],
      "metadata": {
        "id": "hK3EmLRrylla",
        "colab": {
          "base_uri": "https://localhost:8080/"
        },
        "outputId": "5a432147-25a0-4cf0-cb0d-38f33e6ccb42"
      },
      "execution_count": 38,
      "outputs": [
        {
          "output_type": "stream",
          "name": "stdout",
          "text": [
            "Writing app.py\n"
          ]
        }
      ]
    },
    {
      "cell_type": "code",
      "source": [
        "# Dockerfile (add new cell)\n",
        "%%writefile Dockerfile\n",
        "FROM tensorflow/tensorflow:latest\n",
        "WORKDIR /app\n",
        "COPY . .\n",
        "RUN pip install flask pillow\n",
        "EXPOSE 5000\n",
        "CMD [\"python\", \"api.py\"]"
      ],
      "metadata": {
        "id": "TEtDAsakymuI",
        "colab": {
          "base_uri": "https://localhost:8080/"
        },
        "outputId": "dedcdc7c-316d-418c-c21c-ddcd9c99326d"
      },
      "execution_count": 39,
      "outputs": [
        {
          "output_type": "stream",
          "name": "stdout",
          "text": [
            "Writing Dockerfile\n"
          ]
        }
      ]
    },
    {
      "cell_type": "code",
      "source": [
        "# Locust test script (add new cell)\n",
        "%%writefile locustfile.py\n",
        "from locust import HttpUser, task, between\n",
        "\n",
        "class ModelUser(HttpUser):\n",
        "    wait_time = between(1, 5)\n",
        "\n",
        "    @task\n",
        "    def predict(self):\n",
        "        with open(\"test_image.jpg\", \"rb\") as f:\n",
        "            self.client.post(\"/predict\", files={\"file\": f})"
      ],
      "metadata": {
        "id": "MhfzRk5oyrGZ",
        "colab": {
          "base_uri": "https://localhost:8080/"
        },
        "outputId": "fa769cf7-271e-41c0-de5d-72116080a42c"
      },
      "execution_count": 40,
      "outputs": [
        {
          "output_type": "stream",
          "name": "stdout",
          "text": [
            "Writing locustfile.py\n"
          ]
        }
      ]
    },
    {
      "cell_type": "code",
      "source": [
        "def retrain_with_new_data(new_data_dir, model_path):\n",
        "    # Validate new data first\n",
        "    issues = validate_dataset(new_data_dir)\n",
        "    if isinstance(issues, list):\n",
        "        print(\"Validation issues:\", issues)\n",
        "        return None\n",
        "\n",
        "    # Versioning\n",
        "    version = len(os.listdir(\"models\")) + 1\n",
        "    new_model_path = f\"models/v{version}.h5\"\n",
        "\n",
        "    # Retrain\n",
        "    history = model.fit(...)\n",
        "\n",
        "    # Validate performance\n",
        "    if history.history['val_accuracy'][-1] < 0.7:\n",
        "        print(\"Retraining failed - accuracy too low\")\n",
        "        return None\n",
        "\n",
        "    model.save(new_model_path)\n",
        "    save_metadata(model, new_data_dir)\n",
        "    return history"
      ],
      "metadata": {
        "id": "eSNGN5OTyudD"
      },
      "execution_count": 41,
      "outputs": []
    },
    {
      "cell_type": "code",
      "source": [
        "# Performance Dashboard\n",
        "import plotly.express as px\n",
        "\n",
        "def create_performance_dashboard(history):\n",
        "    fig = px.line(pd.DataFrame(history.history),\n",
        "                 y=['accuracy', 'val_accuracy'],\n",
        "                 title='Model Accuracy Over Time')\n",
        "    fig.show()\n",
        "\n",
        "    fig = px.line(pd.DataFrame(history.history),\n",
        "                 y=['loss', 'val_loss'],\n",
        "                 title='Model Loss Over Time')\n",
        "    fig.show()"
      ],
      "metadata": {
        "id": "knrsDPvKyvmX"
      },
      "execution_count": 42,
      "outputs": []
    },
    {
      "cell_type": "code",
      "source": [
        "from sklearn.metrics import roc_curve, auc\n",
        "from itertools import cycle\n",
        "\n",
        "# ROC Curve for multi-class\n",
        "fpr = dict()\n",
        "tpr = dict()\n",
        "roc_auc = dict()\n",
        "import numpy as np\n",
        "\n",
        "# Get the number of batches\n",
        "val_steps = val_generator.samples // val_generator.batch_size + 1\n",
        "\n",
        "# Extract predictions and true labels\n",
        "y_pred = model.predict(val_generator, steps=val_steps)\n",
        "y_test = val_generator.classes\n",
        "y_test = np.eye(len(class_names))[y_test]  # One-hot encode the labels\n",
        "\n",
        "\n",
        "for i in range(len(class_names)):\n",
        "    fpr[i], tpr[i], _ = roc_curve(y_test[:, i], y_pred[:, i])\n",
        "    roc_auc[i] = auc(fpr[i], tpr[i])\n",
        "\n",
        "plt.figure()\n",
        "colors = cycle(['red', 'green', 'blue'])\n",
        "for i, color in zip(range(len(class_names)), colors):\n",
        "    plt.plot(fpr[i], tpr[i], color=color,\n",
        "             label=f'ROC {class_names[i]} (area = {roc_auc[i]:.2f})')\n",
        "plt.plot([0, 1], [0, 1], 'k--')\n",
        "plt.xlabel('False Positive Rate')\n",
        "plt.ylabel('True Positive Rate')\n",
        "plt.title('ROC Curve')\n",
        "plt.legend()\n",
        "plt.show()"
      ],
      "metadata": {
        "id": "Xva8_KIeyzdq",
        "colab": {
          "base_uri": "https://localhost:8080/",
          "height": 544
        },
        "outputId": "becf0e21-e56a-447f-9cbf-30f86e144476"
      },
      "execution_count": 48,
      "outputs": [
        {
          "output_type": "stream",
          "name": "stderr",
          "text": [
            "/usr/local/lib/python3.11/dist-packages/keras/src/trainers/data_adapters/py_dataset_adapter.py:121: UserWarning: Your `PyDataset` class should call `super().__init__(**kwargs)` in its constructor. `**kwargs` can include `workers`, `use_multiprocessing`, `max_queue_size`. Do not pass these arguments to `fit()`, as they will be ignored.\n",
            "  self._warn_if_super_not_called()\n"
          ]
        },
        {
          "output_type": "stream",
          "name": "stdout",
          "text": [
            "\u001b[1m57/57\u001b[0m \u001b[32m━━━━━━━━━━━━━━━━━━━━\u001b[0m\u001b[37m\u001b[0m \u001b[1m64s\u001b[0m 1s/step\n"
          ]
        },
        {
          "output_type": "display_data",
          "data": {
            "text/plain": [
              "<Figure size 640x480 with 1 Axes>"
            ],
            "image/png": "[encoded data removed]"
          },
          "metadata": {}
        }
      ]
    }
  ]
}